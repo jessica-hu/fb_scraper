{
 "cells": [
  {
   "cell_type": "code",
   "execution_count": 1,
   "metadata": {
    "collapsed": false
   },
   "outputs": [],
   "source": [
    "from pymongo import MongoClient\n",
    "import pandas as pd\n",
    "import numpy as np\n",
    "import datetime\n",
    "import time\n",
    "import urllib\n",
    "import json\n",
    "\n",
    "app_id = \"443809049300463\"\n",
    "app_secret = \"e6ff2a431bb3da7624faefbf39a15a3d\" # DO NOT SHARE WITH ANYONE!\n",
    "\n",
    "access_token = app_id + \"|\" + app_secret\n",
    "access_token\n",
    "\n",
    "test_post_url = pd.read_csv('1717731545171536_facebook_statuses.csv')[\"b'post_id'\"][0]"
   ]
  },
  {
   "cell_type": "code",
   "execution_count": 2,
   "metadata": {
    "collapsed": true
   },
   "outputs": [],
   "source": [
    "def request_until_succeed(url):\n",
    "    req = urllib.request.Request(url)\n",
    "    success = False\n",
    "    while success is False:\n",
    "        try: \n",
    "            response = urllib.request.urlopen(req)\n",
    "            if response.getcode() == 200:\n",
    "                success = True\n",
    "        except Exception as e:\n",
    "            print(e)\n",
    "            time.sleep(5)\n",
    "            \n",
    "            print(\"Error for URL %s: %s\" % (url, datetime.datetime.now()))\n",
    "\n",
    "    return response.read()"
   ]
  },
  {
   "cell_type": "code",
   "execution_count": 3,
   "metadata": {
    "collapsed": false,
    "scrolled": true
   },
   "outputs": [],
   "source": [
    "client = MongoClient()\n",
    "db = client.meme_scrape\n",
    "# for i in range(2):\n",
    "#     x = parseAllReactions(pd.read_csv('1717731545171536_facebook_statuses.csv')[\"b'post_id'\"][i], 100)\n",
    "#     end = db.reactions_full.insert_one(x)\n",
    "db.user_reactions.drop()"
   ]
  },
  {
   "cell_type": "code",
   "execution_count": 33,
   "metadata": {
    "collapsed": false
   },
   "outputs": [],
   "source": [
    "def parseAllReactions(post_id, num_reactions):\n",
    "    base = \"https://graph.facebook.com/v2.8/\"+post_id+\"/reactions\"\n",
    "    parameters = \"?access_token=%s&limit=%s\" % (access_token, num_reactions)\n",
    "    \n",
    "    url = base + parameters\n",
    "    \n",
    "    scrape_starttime = datetime.datetime.now()\n",
    "    data = json.loads(request_until_succeed(url).decode('utf-8'))\n",
    "    \n",
    "    post_data = []\n",
    "    pages = 0\n",
    "    has_next_page = True\n",
    "    \n",
    "    while has_next_page:\n",
    "    #    post_data = post_data + data['data']\n",
    "        for i in data['data']:\n",
    "            db.user_reactions.update_one( { \"_id\": i['id'] } , \n",
    "                                        { \"$push\": { 'reactions' : {'type' : i['type'], 'post_id' : post_id} } }, upsert = True)\n",
    "        pages+=1\n",
    "        # if there is no next page, we're done.\n",
    "        if 'next' in data['paging'].keys():\n",
    "            data = json.loads(request_until_succeed(data['paging']['next']).decode('utf-8'))\n",
    "        else:\n",
    "            has_next_page = False\n",
    "            \n",
    "    #db.post_reactions.insert_one( {'_id' : post_id, 'reactions' : post_data} )\n",
    "    print(\"\\nDone!\\n%s pages Processed in %s\" % (pages, datetime.datetime.now() - scrape_starttime))\n"
   ]
  },
  {
   "cell_type": "code",
   "execution_count": 32,
   "metadata": {
    "collapsed": false
   },
   "outputs": [],
   "source": [
    "# clear everything cell\n",
    "db.user_reactions.drop()\n",
    "db.post_reactions.drop()"
   ]
  },
  {
   "cell_type": "code",
   "execution_count": 34,
   "metadata": {
    "collapsed": false
   },
   "outputs": [
    {
     "name": "stdout",
     "output_type": "stream",
     "text": [
      "\n",
      "Done!\n",
      "56 pages Processed in 0:00:11.163093\n",
      "\n",
      "Done!\n",
      "19 pages Processed in 0:00:04.400053\n",
      "\n",
      "Done!\n",
      "11 pages Processed in 0:00:03.624360\n",
      "\n",
      "Done!\n",
      "31 pages Processed in 0:00:05.723621\n",
      "\n",
      "Done!\n",
      "10 pages Processed in 0:00:01.842816\n",
      "\n",
      "Done!\n",
      "29 pages Processed in 0:00:06.325942\n",
      "\n",
      "Done!\n",
      "9 pages Processed in 0:00:02.152977\n",
      "\n",
      "Done!\n",
      "25 pages Processed in 0:00:05.409622\n",
      "\n",
      "Done!\n",
      "12 pages Processed in 0:00:02.868095\n",
      "\n",
      "Done!\n",
      "56 pages Processed in 0:00:12.298252\n",
      "\n",
      "Done!\n",
      "20 pages Processed in 0:00:04.041785\n",
      "\n",
      "Done!\n",
      "9 pages Processed in 0:00:02.087123\n",
      "\n",
      "Done!\n",
      "7 pages Processed in 0:00:01.692024\n",
      "\n",
      "Done!\n",
      "84 pages Processed in 0:00:20.109329\n",
      "\n",
      "Done!\n",
      "12 pages Processed in 0:00:02.744283\n",
      "\n",
      "Done!\n",
      "32 pages Processed in 0:00:06.698033\n",
      "\n",
      "Done!\n",
      "35 pages Processed in 0:00:07.319467\n",
      "\n",
      "Done!\n",
      "5 pages Processed in 0:00:00.968229\n",
      "\n",
      "Done!\n",
      "25 pages Processed in 0:00:04.798996\n",
      "\n",
      "Done!\n",
      "16 pages Processed in 0:00:03.452977\n",
      "\n",
      "Done!\n",
      "54 pages Processed in 0:00:12.245529\n",
      "\n",
      "Done!\n",
      "36 pages Processed in 0:00:07.479278\n",
      "\n",
      "Done!\n",
      "8 pages Processed in 0:00:01.619636\n",
      "\n",
      "Done!\n",
      "23 pages Processed in 0:00:06.476203\n",
      "\n",
      "Done!\n",
      "56 pages Processed in 0:00:11.197883\n",
      "\n",
      "Done!\n",
      "2 pages Processed in 0:00:00.388729\n",
      "\n",
      "Done!\n",
      "24 pages Processed in 0:00:05.018299\n",
      "\n",
      "Done!\n",
      "18 pages Processed in 0:00:03.759251\n",
      "\n",
      "Done!\n",
      "38 pages Processed in 0:00:07.689303\n",
      "\n",
      "Done!\n",
      "67 pages Processed in 0:00:14.624156\n"
     ]
    }
   ],
   "source": [
    "for i in range(30):\n",
    "    parseAllReactions(pd.read_csv('1717731545171536_facebook_statuses.csv')[\"b'post_id'\"][i], 100)"
   ]
  },
  {
   "cell_type": "code",
   "execution_count": 36,
   "metadata": {
    "collapsed": false
   },
   "outputs": [],
   "source": [
    "# Gets the reaction breakdown for the first 30 posts\n",
    "s = db.post_reactions.find()\n",
    "for i in s:\n",
    "    l=np.array([])\n",
    "    for k in i['reactions']:\n",
    "        l = np.append(l,k['type'])\n",
    "    num_like = np.count_nonzero(l=='LIKE')\n",
    "    num_love = np.count_nonzero(l=='LOVE')\n",
    "    num_haha = np.count_nonzero(l=='HAHA')\n",
    "    num_wow = np.count_nonzero(l=='WOW')\n",
    "    num_angry = np.count_nonzero(l=='ANGRY')\n",
    "    num_sad = np.count_nonzero(l=='SAD')\n",
    "    print(num_like, num_love, num_haha, num_wow, num_angry, num_sad)"
   ]
  },
  {
   "cell_type": "code",
   "execution_count": 35,
   "metadata": {
    "collapsed": false
   },
   "outputs": [],
   "source": [
    "# a = db.user_reactions.find()\n",
    "# for i in a:\n",
    "#     print(i)"
   ]
  },
  {
   "cell_type": "code",
   "execution_count": 47,
   "metadata": {
    "collapsed": false
   },
   "outputs": [],
   "source": [
    "# going to get summary breakdown for a specific user\n",
    "s = db.user_reactions.find()"
   ]
  },
  {
   "cell_type": "code",
   "execution_count": 82,
   "metadata": {
    "collapsed": false
   },
   "outputs": [
    {
     "data": {
      "text/plain": [
       "{'_id': '436073616742711',\n",
       " 'posts_liked': ['1717731545171536_1899685076976181',\n",
       "  '1717731545171536_1899735876971101',\n",
       "  '1717731545171536_1898955040382518',\n",
       "  '1717731545171536_1899674983643857'],\n",
       " 'reaction_breakdown': ['ANGRY', 'SAD', 'ANGRY', 'LIKE'],\n",
       " 'reactions': [{'post_id': '1717731545171536_1899685076976181',\n",
       "   'type': 'ANGRY'},\n",
       "  {'post_id': '1717731545171536_1899735876971101', 'type': 'SAD'},\n",
       "  {'post_id': '1717731545171536_1898955040382518', 'type': 'ANGRY'},\n",
       "  {'post_id': '1717731545171536_1899674983643857', 'type': 'LIKE'}]}"
      ]
     },
     "execution_count": 82,
     "metadata": {},
     "output_type": "execute_result"
    }
   ],
   "source": [
    "test_user_id = \"436073616742711\"\n",
    "s = db.user_reactions.find({\"_id\" : test_user_id})\n",
    "out = s.next()\n",
    "out"
   ]
  },
  {
   "cell_type": "code",
   "execution_count": 51,
   "metadata": {
    "collapsed": false
   },
   "outputs": [
    {
     "data": {
      "text/plain": [
       "[{'post_id': '1717731545171536_1899685076976181', 'type': 'ANGRY'},\n",
       " {'post_id': '1717731545171536_1899735876971101', 'type': 'SAD'},\n",
       " {'post_id': '1717731545171536_1898955040382518', 'type': 'ANGRY'},\n",
       " {'post_id': '1717731545171536_1899674983643857', 'type': 'LIKE'}]"
      ]
     },
     "execution_count": 51,
     "metadata": {},
     "output_type": "execute_result"
    }
   ],
   "source": [
    "out['reactions']"
   ]
  },
  {
   "cell_type": "code",
   "execution_count": 86,
   "metadata": {
    "collapsed": false
   },
   "outputs": [],
   "source": [
    "def formatUserReactions(user_id):\n",
    "    \"\"\"\n",
    "    After parsing with parseAllReactions, reformats the reactions\n",
    "    of a single user into a more readable format.\n",
    "    Returns two things--a list of posts they've reacted to and\n",
    "    their reactions to those posts.\n",
    "    \"\"\"\n",
    "    \n",
    "    user = db.user_reactions.find({\"_id\" : user_id}).next()\n",
    "    if user == None:\n",
    "        print(\"No reaction data for user:\", user_id)\n",
    "        return\n",
    "    \n",
    "    posts = []\n",
    "    reactions = []\n",
    "    for i in user['reactions']:\n",
    "        posts = posts + [i['post_id']]\n",
    "        reactions = reactions + [i['type']]\n",
    "    \n",
    "    \n",
    "    \n",
    "    db.user_reactions.update_one( { \"_id\": user_id } , \n",
    "                    { \"$set\": { 'posts_liked' : posts , 'reaction_breakdown' : reactions } }, upsert = True)"
   ]
  },
  {
   "cell_type": "code",
   "execution_count": null,
   "metadata": {
    "collapsed": false
   },
   "outputs": [],
   "source": []
  },
  {
   "cell_type": "code",
   "execution_count": null,
   "metadata": {
    "collapsed": false
   },
   "outputs": [],
   "source": []
  },
  {
   "cell_type": "code",
   "execution_count": null,
   "metadata": {
    "collapsed": true
   },
   "outputs": [],
   "source": []
  }
 ],
 "metadata": {
  "anaconda-cloud": {},
  "kernelspec": {
   "display_name": "Python [default]",
   "language": "python",
   "name": "python3"
  },
  "language_info": {
   "codemirror_mode": {
    "name": "ipython",
    "version": 3
   },
   "file_extension": ".py",
   "mimetype": "text/x-python",
   "name": "python",
   "nbconvert_exporter": "python",
   "pygments_lexer": "ipython3",
   "version": "3.5.2"
  }
 },
 "nbformat": 4,
 "nbformat_minor": 1
}

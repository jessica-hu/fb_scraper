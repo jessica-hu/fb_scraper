{
 "cells": [
  {
   "cell_type": "code",
   "execution_count": 3,
   "metadata": {
    "collapsed": false
   },
   "outputs": [],
   "source": [
    "from pymongo import MongoClient\n",
    "import pandas as pd\n",
    "import numpy as np\n",
    "import datetime\n",
    "import time\n",
    "import urllib\n",
    "import json\n",
    "\n",
    "app_id = \"443809049300463\"\n",
    "app_secret = \"e6ff2a431bb3da7624faefbf39a15a3d\" # DO NOT SHARE WITH ANYONE!\n",
    "\n",
    "access_token = app_id + \"|\" + app_secret\n",
    "access_token\n",
    "\n",
    "test_post_url = pd.read_csv('1717731545171536_facebook_statuses.csv')[\"b'post_id'\"][0]"
   ]
  },
  {
   "cell_type": "code",
   "execution_count": 6,
   "metadata": {
    "collapsed": true
   },
   "outputs": [],
   "source": [
    "def request_until_succeed(url):\n",
    "    req = urllib.request.Request(url)\n",
    "    success = False\n",
    "    while success is False:\n",
    "        try: \n",
    "            response = urllib.request.urlopen(req)\n",
    "            if response.getcode() == 200:\n",
    "                success = True\n",
    "        except Exception as e:\n",
    "            print(e)\n",
    "            time.sleep(5)\n",
    "            \n",
    "            print(\"Error for URL %s: %s\" % (url, datetime.datetime.now()))\n",
    "\n",
    "    return response.read()"
   ]
  },
  {
   "cell_type": "code",
   "execution_count": 3,
   "metadata": {
    "collapsed": false,
    "scrolled": true
   },
   "outputs": [],
   "source": [
    "client = MongoClient()\n",
    "db = client.meme_scrape\n",
    "# for i in range(2):\n",
    "#     x = parseAllReactions(pd.read_csv('1717731545171536_facebook_statuses.csv')[\"b'post_id'\"][i], 100)\n",
    "#     end = db.reactions_full.insert_one(x)\n",
    "db.user_reactions.drop()"
   ]
  },
  {
   "cell_type": "code",
   "execution_count": 33,
   "metadata": {
    "collapsed": false
   },
   "outputs": [],
   "source": [
    "def parseAllReactions(post_id, num_reactions):\n",
    "    base = \"https://graph.facebook.com/v2.8/\"+post_id+\"/reactions\"\n",
    "    parameters = \"?access_token=%s&limit=%s\" % (access_token, num_reactions)\n",
    "    \n",
    "    url = base + parameters\n",
    "    \n",
    "    scrape_starttime = datetime.datetime.now()\n",
    "    data = json.loads(request_until_succeed(url).decode('utf-8'))\n",
    "    \n",
    "    post_data = []\n",
    "    pages = 0\n",
    "    has_next_page = True\n",
    "    \n",
    "    while has_next_page:\n",
    "    #    post_data = post_data + data['data']\n",
    "        for i in data['data']:\n",
    "            db.user_reactions.update_one( { \"_id\": i['id'] } , \n",
    "                                        { \"$push\": { 'reactions' : {'type' : i['type'], 'post_id' : post_id} } }, upsert = True)\n",
    "        pages+=1\n",
    "        # if there is no next page, we're done.\n",
    "        if 'next' in data['paging'].keys():\n",
    "            data = json.loads(request_until_succeed(data['paging']['next']).decode('utf-8'))\n",
    "        else:\n",
    "            has_next_page = False\n",
    "            \n",
    "    #db.post_reactions.insert_one( {'_id' : post_id, 'reactions' : post_data} )\n",
    "    print(\"\\nDone!\\n%s pages Processed in %s\" % (pages, datetime.datetime.now() - scrape_starttime))\n"
   ]
  },
  {
   "cell_type": "code",
   "execution_count": 32,
   "metadata": {
    "collapsed": false
   },
   "outputs": [],
   "source": [
    "# clear everything cell\n",
    "db.user_reactions.drop()\n",
    "db.post_reactions.drop()"
   ]
  },
  {
   "cell_type": "code",
   "execution_count": 34,
   "metadata": {
    "collapsed": false
   },
   "outputs": [
    {
     "name": "stdout",
     "output_type": "stream",
     "text": [
      "\n",
      "Done!\n",
      "56 pages Processed in 0:00:11.163093\n",
      "\n",
      "Done!\n",
      "19 pages Processed in 0:00:04.400053\n",
      "\n",
      "Done!\n",
      "11 pages Processed in 0:00:03.624360\n",
      "\n",
      "Done!\n",
      "31 pages Processed in 0:00:05.723621\n",
      "\n",
      "Done!\n",
      "10 pages Processed in 0:00:01.842816\n",
      "\n",
      "Done!\n",
      "29 pages Processed in 0:00:06.325942\n",
      "\n",
      "Done!\n",
      "9 pages Processed in 0:00:02.152977\n",
      "\n",
      "Done!\n",
      "25 pages Processed in 0:00:05.409622\n",
      "\n",
      "Done!\n",
      "12 pages Processed in 0:00:02.868095\n",
      "\n",
      "Done!\n",
      "56 pages Processed in 0:00:12.298252\n",
      "\n",
      "Done!\n",
      "20 pages Processed in 0:00:04.041785\n",
      "\n",
      "Done!\n",
      "9 pages Processed in 0:00:02.087123\n",
      "\n",
      "Done!\n",
      "7 pages Processed in 0:00:01.692024\n",
      "\n",
      "Done!\n",
      "84 pages Processed in 0:00:20.109329\n",
      "\n",
      "Done!\n",
      "12 pages Processed in 0:00:02.744283\n",
      "\n",
      "Done!\n",
      "32 pages Processed in 0:00:06.698033\n",
      "\n",
      "Done!\n",
      "35 pages Processed in 0:00:07.319467\n",
      "\n",
      "Done!\n",
      "5 pages Processed in 0:00:00.968229\n",
      "\n",
      "Done!\n",
      "25 pages Processed in 0:00:04.798996\n",
      "\n",
      "Done!\n",
      "16 pages Processed in 0:00:03.452977\n",
      "\n",
      "Done!\n",
      "54 pages Processed in 0:00:12.245529\n",
      "\n",
      "Done!\n",
      "36 pages Processed in 0:00:07.479278\n",
      "\n",
      "Done!\n",
      "8 pages Processed in 0:00:01.619636\n",
      "\n",
      "Done!\n",
      "23 pages Processed in 0:00:06.476203\n",
      "\n",
      "Done!\n",
      "56 pages Processed in 0:00:11.197883\n",
      "\n",
      "Done!\n",
      "2 pages Processed in 0:00:00.388729\n",
      "\n",
      "Done!\n",
      "24 pages Processed in 0:00:05.018299\n",
      "\n",
      "Done!\n",
      "18 pages Processed in 0:00:03.759251\n",
      "\n",
      "Done!\n",
      "38 pages Processed in 0:00:07.689303\n",
      "\n",
      "Done!\n",
      "67 pages Processed in 0:00:14.624156\n"
     ]
    }
   ],
   "source": [
    "for i in range(30):\n",
    "    parseAllReactions(pd.read_csv('1717731545171536_facebook_statuses.csv')[\"b'post_id'\"][i], 100)"
   ]
  },
  {
   "cell_type": "code",
   "execution_count": 36,
   "metadata": {
    "collapsed": false
   },
   "outputs": [],
   "source": [
    "# Gets the reaction breakdown for the first 30 posts\n",
    "s = db.post_reactions.find()\n",
    "for i in s:\n",
    "    l=np.array([])\n",
    "    for k in i['reactions']:\n",
    "        l = np.append(l,k['type'])\n",
    "    num_like = np.count_nonzero(l=='LIKE')\n",
    "    num_love = np.count_nonzero(l=='LOVE')\n",
    "    num_haha = np.count_nonzero(l=='HAHA')\n",
    "    num_wow = np.count_nonzero(l=='WOW')\n",
    "    num_angry = np.count_nonzero(l=='ANGRY')\n",
    "    num_sad = np.count_nonzero(l=='SAD')\n",
    "    print(num_like, num_love, num_haha, num_wow, num_angry, num_sad)"
   ]
  },
  {
   "cell_type": "code",
   "execution_count": 35,
   "metadata": {
    "collapsed": false
   },
   "outputs": [],
   "source": [
    "# a = db.user_reactions.find()\n",
    "# for i in a:\n",
    "#     print(i)"
   ]
  },
  {
   "cell_type": "code",
   "execution_count": 47,
   "metadata": {
    "collapsed": false
   },
   "outputs": [],
   "source": [
    "# going to get summary breakdown for a specific user\n",
    "s = db.user_reactions.find()"
   ]
  },
  {
   "cell_type": "code",
   "execution_count": 82,
   "metadata": {
    "collapsed": false
   },
   "outputs": [
    {
     "data": {
      "text/plain": [
       "{'_id': '436073616742711',\n",
       " 'posts_liked': ['1717731545171536_1899685076976181',\n",
       "  '1717731545171536_1899735876971101',\n",
       "  '1717731545171536_1898955040382518',\n",
       "  '1717731545171536_1899674983643857'],\n",
       " 'reaction_breakdown': ['ANGRY', 'SAD', 'ANGRY', 'LIKE'],\n",
       " 'reactions': [{'post_id': '1717731545171536_1899685076976181',\n",
       "   'type': 'ANGRY'},\n",
       "  {'post_id': '1717731545171536_1899735876971101', 'type': 'SAD'},\n",
       "  {'post_id': '1717731545171536_1898955040382518', 'type': 'ANGRY'},\n",
       "  {'post_id': '1717731545171536_1899674983643857', 'type': 'LIKE'}]}"
      ]
     },
     "execution_count": 82,
     "metadata": {},
     "output_type": "execute_result"
    }
   ],
   "source": [
    "test_user_id = \"436073616742711\"\n",
    "s = db.user_reactions.find({\"_id\" : test_user_id})\n",
    "out = s.next()\n",
    "out"
   ]
  },
  {
   "cell_type": "code",
   "execution_count": 51,
   "metadata": {
    "collapsed": false
   },
   "outputs": [
    {
     "data": {
      "text/plain": [
       "[{'post_id': '1717731545171536_1899685076976181', 'type': 'ANGRY'},\n",
       " {'post_id': '1717731545171536_1899735876971101', 'type': 'SAD'},\n",
       " {'post_id': '1717731545171536_1898955040382518', 'type': 'ANGRY'},\n",
       " {'post_id': '1717731545171536_1899674983643857', 'type': 'LIKE'}]"
      ]
     },
     "execution_count": 51,
     "metadata": {},
     "output_type": "execute_result"
    }
   ],
   "source": [
    "out['reactions']"
   ]
  },
  {
   "cell_type": "code",
   "execution_count": 1,
   "metadata": {
    "collapsed": false
   },
   "outputs": [],
   "source": [
    "def formatUserReactions(user_id):\n",
    "    \"\"\"\n",
    "    After parsing with parseAllReactions, reformats the reactions\n",
    "    of a single user into a more readable format.\n",
    "    Returns two things--a list of posts they've reacted to and\n",
    "    their reactions to those posts.\n",
    "    \"\"\"\n",
    "    \n",
    "    user = db.user_reactions.find({\"_id\" : user_id}).next()\n",
    "    if user == None:\n",
    "        print(\"No reaction data for user:\", user_id)\n",
    "        return\n",
    "    \n",
    "    posts = []\n",
    "    reactions = []\n",
    "    for i in user['reactions']:\n",
    "        posts = posts + [i['post_id']]\n",
    "        reactions = reactions + [i['type']]\n",
    "    \n",
    "    #     db.user_reactions.update_one( { \"_id\": user_id } , \n",
    "    #                     { \"$set\": { 'posts_liked' : posts , 'reaction_breakdown' : reactions } }, upsert = True)\n",
    "\n",
    "    return posts, reactions"
   ]
  },
  {
   "cell_type": "code",
   "execution_count": 7,
   "metadata": {
    "collapsed": false
   },
   "outputs": [
    {
     "data": {
      "text/plain": [
       "{'data': [{'id': '1497837216934482', 'name': 'Omar Baradei', 'type': 'LIKE'},\n",
       "  {'id': '1311040808987819', 'name': 'Gina Sakoda', 'type': 'LIKE'},\n",
       "  {'id': '10210879836169566', 'name': 'Alex Wang', 'type': 'LIKE'},\n",
       "  {'id': '431973770480713', 'name': 'Tony Lai', 'type': 'LIKE'},\n",
       "  {'id': '10211524858009815', 'name': 'Jack Connolly', 'type': 'LIKE'},\n",
       "  {'id': '1401571019886712', 'name': 'Chuck Tang', 'type': 'LIKE'},\n",
       "  {'id': '10212140256486911', 'name': 'Oliver Shou', 'type': 'LIKE'},\n",
       "  {'id': '1881538172085189', 'name': 'Sophie Tran', 'type': 'LIKE'},\n",
       "  {'id': '10210862668915515', 'name': 'Nick Youmans', 'type': 'LIKE'},\n",
       "  {'id': '10208907580587171', 'name': 'Ryan Barroga', 'type': 'LIKE'},\n",
       "  {'id': '1262044973917037', 'name': 'Upinderpreet Gill', 'type': 'LIKE'},\n",
       "  {'id': '10212899126262311', 'name': 'Brian Yan', 'type': 'LIKE'},\n",
       "  {'id': '863153320492734', 'name': 'Katherine Fu', 'type': 'LIKE'},\n",
       "  {'id': '1330797033671967', 'name': 'Eugenie Li', 'type': 'LIKE'},\n",
       "  {'id': '1441960339188518', 'name': 'Bryan Hoang', 'type': 'LIKE'},\n",
       "  {'id': '1313153918762807', 'name': 'Jacky Chiu', 'type': 'LIKE'},\n",
       "  {'id': '1652873011389362', 'name': 'Kaylynn Conant', 'type': 'LIKE'},\n",
       "  {'id': '1272527466130325', 'name': 'Nicole Guerrero', 'type': 'LIKE'},\n",
       "  {'id': '1379608398752410', 'name': 'Kush Gupta', 'type': 'LIKE'},\n",
       "  {'id': '874156839408395', 'name': 'Irene Nguyen', 'type': 'LIKE'},\n",
       "  {'id': '746590888882168', 'name': 'Marvin M Mulima', 'type': 'LIKE'},\n",
       "  {'id': '1533503363335786', 'name': 'Nick Yee', 'type': 'LIKE'},\n",
       "  {'id': '10158898618335221', 'name': 'Connie Meza', 'type': 'LIKE'},\n",
       "  {'id': '10208517812009637', 'name': 'Vivian Zhou', 'type': 'LIKE'},\n",
       "  {'id': '1941018059518362', 'name': 'Yen Dinh', 'type': 'LIKE'},\n",
       "  {'id': '1704343122915804', 'name': 'Lok See Ng', 'type': 'LOVE'},\n",
       "  {'id': '1919718418297772', 'name': 'Lina Wang', 'type': 'LIKE'},\n",
       "  {'id': '440453089627338', 'name': 'Dani Tindan', 'type': 'LIKE'},\n",
       "  {'id': '1287012491405771', 'name': 'Claire Iverson', 'type': 'LIKE'},\n",
       "  {'id': '10212524340320538', 'name': 'Ryan Chung', 'type': 'LIKE'},\n",
       "  {'id': '10211717610511049', 'name': 'Daniel Lo', 'type': 'LIKE'},\n",
       "  {'id': '758515780980453', 'name': 'Jazzy Ortega', 'type': 'LIKE'},\n",
       "  {'id': '1857358374527070', 'name': 'Hu Yiman', 'type': 'LIKE'},\n",
       "  {'id': '1530849513592060', 'name': 'Demetrius Wallman', 'type': 'LIKE'},\n",
       "  {'id': '629149127294124', 'name': 'Tracy Chairudin', 'type': 'LIKE'},\n",
       "  {'id': '1416857165037545', 'name': 'Katie Jocelyn', 'type': 'LIKE'},\n",
       "  {'id': '1457961357601213', 'name': 'Alexandra Ruiloba', 'type': 'LIKE'},\n",
       "  {'id': '1649427651738519', 'name': 'Emily Nevens', 'type': 'LIKE'},\n",
       "  {'id': '798417863650300', 'name': 'Nick Nilanduwa', 'type': 'LIKE'},\n",
       "  {'id': '1870773409615313', 'name': 'Emmanuel Orozco', 'type': 'LIKE'},\n",
       "  {'id': '10212797729043788', 'name': 'Celia Ford', 'type': 'LIKE'},\n",
       "  {'id': '10206937645839869', 'name': 'Chelsea Cooper', 'type': 'LIKE'},\n",
       "  {'id': '1533706483320808', 'name': 'Brenton Hwee', 'type': 'LIKE'},\n",
       "  {'id': '1608318452529081', 'name': 'Mojie Li', 'type': 'LIKE'},\n",
       "  {'id': '657343734453828', 'name': 'Bill Zhou', 'type': 'HAHA'},\n",
       "  {'id': '918080175000535', 'name': 'Jana Quan', 'type': 'LIKE'},\n",
       "  {'id': '1396398143788485', 'name': 'Hanna Darroll', 'type': 'LIKE'},\n",
       "  {'id': '998812150218284', 'name': 'Jazmin Monzon', 'type': 'HAHA'},\n",
       "  {'id': '789477651208764', 'name': 'Emily Castelazo', 'type': 'LIKE'},\n",
       "  {'id': '1127614560717817', 'name': 'Clarissa Pham', 'type': 'HAHA'},\n",
       "  {'id': '1646660588697418', 'name': 'Precious Listana', 'type': 'LIKE'},\n",
       "  {'id': '1470110386365354', 'name': 'Jessica-May Pamatian', 'type': 'LIKE'},\n",
       "  {'id': '1769537950026178', 'name': 'Elle Leeder', 'type': 'LIKE'},\n",
       "  {'id': '1472710829440110', 'name': 'Malcolm Williams', 'type': 'LIKE'},\n",
       "  {'id': '1932973606924502', 'name': 'Garima Raheja', 'type': 'LIKE'},\n",
       "  {'id': '1502019796506226', 'name': 'Keshlee Roy', 'type': 'LIKE'},\n",
       "  {'id': '10208818057959994', 'name': 'Kevin Kauffman', 'type': 'LIKE'},\n",
       "  {'id': '1311676985594451', 'name': 'Guadalupe Corona', 'type': 'LIKE'},\n",
       "  {'id': '1495609200472484', 'name': 'Ryan Kamkar', 'type': 'LIKE'},\n",
       "  {'id': '1834873369872093', 'name': 'Samantha Holcomb', 'type': 'LIKE'},\n",
       "  {'id': '1540987832586128', 'name': 'Mimi Liu', 'type': 'LIKE'},\n",
       "  {'id': '1665956343432289', 'name': 'Jensen Mcfarland', 'type': 'LIKE'},\n",
       "  {'id': '1008006742665130', 'name': 'Michelle Yun', 'type': 'LIKE'},\n",
       "  {'id': '639721806220207', 'name': 'Mackenzie Nishijima', 'type': 'LIKE'},\n",
       "  {'id': '1412111278849905', 'name': 'Rocio Banuelos', 'type': 'LIKE'},\n",
       "  {'id': '10213207464845760', 'name': 'Ricky Zhao', 'type': 'LIKE'},\n",
       "  {'id': '1352245318202244', 'name': 'Sparsh Gauba', 'type': 'LIKE'},\n",
       "  {'id': '1938286836450853', 'name': 'Jiyoo Jeong', 'type': 'LIKE'},\n",
       "  {'id': '1728174720532360', 'name': 'Pranay Kumar', 'type': 'LIKE'},\n",
       "  {'id': '1699735710036532', 'name': 'Fiona Sequeira', 'type': 'LIKE'},\n",
       "  {'id': '409576696089254', 'name': 'Juan Vidal', 'type': 'SAD'},\n",
       "  {'id': '10212370338644368', 'name': 'Madi Mennie', 'type': 'LIKE'},\n",
       "  {'id': '10210265095116386', 'name': 'Rachel Lee', 'type': 'LIKE'},\n",
       "  {'id': '1093406270764057', 'name': 'Kamal Banks', 'type': 'LIKE'},\n",
       "  {'id': '1286971848019006', 'name': 'Peter Lee', 'type': 'LIKE'},\n",
       "  {'id': '1477028205650561', 'name': 'Julianna Higa', 'type': 'LIKE'},\n",
       "  {'id': '1499332836743395', 'name': 'Sarah Yoo', 'type': 'LIKE'},\n",
       "  {'id': '10210740251755754', 'name': 'Rachel Kreager', 'type': 'LIKE'},\n",
       "  {'id': '1393275644052571', 'name': 'Destiny Brown', 'type': 'LIKE'},\n",
       "  {'id': '811092699053333', 'name': 'Kayan Jan', 'type': 'LIKE'},\n",
       "  {'id': '298367357258711', 'name': 'Surya Vengadesan', 'type': 'LIKE'},\n",
       "  {'id': '1249301945166380', 'name': 'Lisa Kim', 'type': 'LIKE'},\n",
       "  {'id': '1644918348870403', 'name': 'Amanda Levi', 'type': 'LIKE'},\n",
       "  {'id': '1366110673427586', 'name': 'Atul Trivedi', 'type': 'LIKE'},\n",
       "  {'id': '1878172389107673', 'name': 'Michelle Cheung', 'type': 'LIKE'},\n",
       "  {'id': '1398232596900097', 'name': 'Joseph Walker', 'type': 'HAHA'},\n",
       "  {'id': '10209383347405282', 'name': 'Sara Ochoa', 'type': 'LIKE'},\n",
       "  {'id': '10211547605240231', 'name': 'Brian Osgood', 'type': 'LIKE'},\n",
       "  {'id': '1474176689279210', 'name': 'Cheyenne Nelson', 'type': 'LIKE'},\n",
       "  {'id': '1296516387050789', 'name': 'Samson Mataraso', 'type': 'LIKE'},\n",
       "  {'id': '10155193669604522', 'name': 'Jose Luna', 'type': 'LIKE'},\n",
       "  {'id': '1525154944174916', 'name': 'Akriti Singh', 'type': 'LIKE'},\n",
       "  {'id': '675032666021346', 'name': 'Lauren Vy Roquemore', 'type': 'LIKE'},\n",
       "  {'id': '1881186018794620', 'name': 'Alex Tseng', 'type': 'LIKE'},\n",
       "  {'id': '1508079495904994', 'name': 'JT Lambert', 'type': 'LIKE'},\n",
       "  {'id': '1434037789969153', 'name': 'Madison Brown', 'type': 'LIKE'},\n",
       "  {'id': '415200852184476', 'name': 'Esther Garcia', 'type': 'LOVE'},\n",
       "  {'id': '297903657310531', 'name': 'Eduardo Corea-Dilbert', 'type': 'LIKE'},\n",
       "  {'id': '10155776456110476', 'name': 'Morgan Dunstan', 'type': 'LIKE'},\n",
       "  {'id': '10208221124956052', 'name': 'Chesna Pokharel', 'type': 'LIKE'}],\n",
       " 'paging': {'cursors': {'after': 'TVRVME1ESXlNRGszTkRveE5Ea3lOelF6TVRNd09qSTFOREE1TmpFMk1UTT0ZD',\n",
       "   'before': 'TVRBd01EQXhNalEyTlRNNU1ETTVPakUwT1RJM09UZAzJNREE2TWpVME1EazJNVFl4TXc9PQZDZD'},\n",
       "  'next': 'https://graph.facebook.com/v2.8/1717731545171536_1899560873655268/reactions?access_token=443809049300463%7Ce6ff2a431bb3da7624faefbf39a15a3d&limit=100&after=TVRVME1ESXlNRGszTkRveE5Ea3lOelF6TVRNd09qSTFOREE1TmpFMk1UTT0ZD'}}"
      ]
     },
     "execution_count": 7,
     "metadata": {},
     "output_type": "execute_result"
    }
   ],
   "source": [
    "base = \"https://graph.facebook.com/v2.8/\"+test_post_url+\"/reactions\"\n",
    "parameters = \"?access_token=%s&limit=%s\" % (access_token, 100)\n",
    "\n",
    "url = base + parameters\n",
    "\n",
    "scrape_starttime = datetime.datetime.now()\n",
    "data = json.loads(request_until_succeed(url).decode('utf-8'))\n",
    "\n",
    "post_data = []\n",
    "pages = 0\n",
    "has_next_page = True\n",
    "\n",
    "data"
   ]
  },
  {
   "cell_type": "code",
   "execution_count": 12,
   "metadata": {
    "collapsed": false
   },
   "outputs": [
    {
     "data": {
      "text/plain": [
       "'William Liu'"
      ]
     },
     "execution_count": 12,
     "metadata": {},
     "output_type": "execute_result"
    }
   ],
   "source": [
    "url = \"https://graph.facebook.com/v2.8/\" + '100008235195169' + \"?access_token=\" + access_token\n",
    "json.loads(request_until_succeed(url).decode('utf-8'))['name']"
   ]
  },
  {
   "cell_type": "code",
   "execution_count": null,
   "metadata": {
    "collapsed": true
   },
   "outputs": [],
   "source": []
  }
 ],
 "metadata": {
  "anaconda-cloud": {},
  "kernelspec": {
   "display_name": "Python [default]",
   "language": "python",
   "name": "python3"
  },
  "language_info": {
   "codemirror_mode": {
    "name": "ipython",
    "version": 3
   },
   "file_extension": ".py",
   "mimetype": "text/x-python",
   "name": "python",
   "nbconvert_exporter": "python",
   "pygments_lexer": "ipython3",
   "version": "3.5.2"
  }
 },
 "nbformat": 4,
 "nbformat_minor": 1
}

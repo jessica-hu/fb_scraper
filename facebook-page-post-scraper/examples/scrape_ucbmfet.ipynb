{
 "cells": [
  {
   "cell_type": "markdown",
   "metadata": {},
   "source": [
    "# How to Scrape Data From Facebook Page Posts for Statistical Analysis\n",
    "\n",
    "By [Max Woolf (@minimaxir)](http://minimaxir.com/)\n",
    "\n",
    "This notebook describes how to build a Facebook Scraper using the latest version of Facebook's Graph API (v2.4). This is the accompanyment to my blog post [How to Scrape Data From Facebook Page Posts for Statistical Analysis](http://minimaxir.com/2015/07/facebook-scraper/)."
   ]
  },
  {
   "cell_type": "code",
   "execution_count": 3,
   "metadata": {
    "collapsed": false
   },
   "outputs": [],
   "source": [
    "# import some Python dependencies\n",
    "\n",
    "import urllib.request\n",
    "import json\n",
    "import datetime\n",
    "import csv\n",
    "import time\n",
    "import pandas as pd\n",
    "from PIL import Image\n",
    "import requests\n",
    "from io import BytesIO"
   ]
  },
  {
   "cell_type": "markdown",
   "metadata": {},
   "source": [
    "Accessing Facebook page data requires an access token.\n",
    "\n",
    "Since the user access token expires within an hour, we need to create a dummy application *for the sole purpose of scraping* and use the app ID and app secret generated there [as described here](https://developers.facebook.com/docs/facebook-login/access-tokens#apptokens), both of which never expire."
   ]
  },
  {
   "cell_type": "code",
   "execution_count": 4,
   "metadata": {
    "collapsed": false
   },
   "outputs": [
    {
     "data": {
      "text/plain": [
       "'443809049300463|e6ff2a431bb3da7624faefbf39a15a3d'"
      ]
     },
     "execution_count": 4,
     "metadata": {},
     "output_type": "execute_result"
    }
   ],
   "source": [
    "# Since the code output in this notebook leaks the app_secret,\n",
    "# it has been reset by the time you read this.\n",
    "\n",
    "app_id = \"443809049300463\"\n",
    "app_secret = \"e6ff2a431bb3da7624faefbf39a15a3d\" # DO NOT SHARE WITH ANYONE!\n",
    "\n",
    "access_token = app_id + \"|\" + app_secret\n",
    "access_token"
   ]
  },
  {
   "cell_type": "markdown",
   "metadata": {},
   "source": [
    "Now we can access public Facebook data without limit. Let's do our analysis on the [New York Times Facebook page](https://www.facebook.com/nytimes), which is popular enough to yield good data."
   ]
  },
  {
   "cell_type": "code",
   "execution_count": 5,
   "metadata": {
    "collapsed": true
   },
   "outputs": [],
   "source": [
    "group_id = '1717731545171536'"
   ]
  },
  {
   "cell_type": "markdown",
   "metadata": {},
   "source": [
    "Let's write a quick program to ping NYT's Facebook page to verify that the `access_token` works and the `page_id` is valid."
   ]
  },
  {
   "cell_type": "code",
   "execution_count": 6,
   "metadata": {
    "collapsed": false
   },
   "outputs": [
    {
     "name": "stdout",
     "output_type": "stream",
     "text": [
      "{\n",
      "    \"id\": \"1717731545171536\",\n",
      "    \"name\": \"UC Berkeley Memes for Edgy Teens\",\n",
      "    \"privacy\": \"OPEN\"\n",
      "}\n"
     ]
    }
   ],
   "source": [
    "def testFacebookPageData(group_id, access_token):\n",
    "    \n",
    "    # construct the URL string\n",
    "    base = \"https://graph.facebook.com/v2.4\"\n",
    "    node = \"/\" + group_id\n",
    "    parameters = \"/?access_token=%s\" % access_token\n",
    "    url = base + node + parameters\n",
    "    \n",
    "    # retrieve data\n",
    "    req = urllib.request.Request(url)\n",
    "    response = urllib.request.urlopen(req)\n",
    "    data = json.loads(response.read().decode('utf-8'))\n",
    "    \n",
    "    print(json.dumps(data, indent=4, sort_keys=True))\n",
    "    \n",
    "\n",
    "testFacebookPageData(\"1717731545171536\", access_token)"
   ]
  },
  {
   "cell_type": "markdown",
   "metadata": {},
   "source": [
    "When scraping large amounts of data from public APIs, there's a high probability that you'll hit an [HTTP Error 500 (Internal Error)](http://www.checkupdown.com/status/E500.html) at some point. There is no way to avoid that on our end. \n",
    "\n",
    "Instead, we'll use a helper function to catch the error and try again after a few seconds, which usually works. This helper function also consolidates the data retrival code, so it kills two birds with one stone."
   ]
  },
  {
   "cell_type": "code",
   "execution_count": 7,
   "metadata": {
    "collapsed": false
   },
   "outputs": [],
   "source": [
    "def request_until_succeed(url):\n",
    "    req = urllib.request.Request(url)\n",
    "    success = False\n",
    "    while success is False:\n",
    "        try: \n",
    "            response = urllib.request.urlopen(req)\n",
    "            if response.getcode() == 200:\n",
    "                success = True\n",
    "        except Exception as e:\n",
    "            print(e)\n",
    "            time.sleep(5)\n",
    "            \n",
    "            print(\"Error for URL %s: %s\" % (url, datetime.datetime.now()))\n",
    "\n",
    "    return response.read()"
   ]
  },
  {
   "cell_type": "markdown",
   "metadata": {},
   "source": [
    "The data is the Facebook Page metadata however; we need to change the endpoint to the /feed endpoint."
   ]
  },
  {
   "cell_type": "code",
   "execution_count": 8,
   "metadata": {
    "collapsed": false
   },
   "outputs": [
    {
     "name": "stdout",
     "output_type": "stream",
     "text": [
      "{\n",
      "    \"data\": [\n",
      "        {\n",
      "            \"id\": \"1717731545171536_1896484597296229\",\n",
      "            \"updated_time\": \"2017-04-20T08:26:40+0000\"\n",
      "        },\n",
      "        {\n",
      "            \"id\": \"1717731545171536_1900202616924427\",\n",
      "            \"message\": \"Does this come in California plates??\",\n",
      "            \"updated_time\": \"2017-04-20T08:26:39+0000\"\n",
      "        },\n",
      "        {\n",
      "            \"id\": \"1717731545171536_1899560873655268\",\n",
      "            \"updated_time\": \"2017-04-20T08:26:38+0000\"\n",
      "        },\n",
      "        {\n",
      "            \"id\": \"1717731545171536_1899689933642362\",\n",
      "            \"updated_time\": \"2017-04-20T08:26:28+0000\"\n",
      "        },\n",
      "        {\n",
      "            \"id\": \"1717731545171536_1899685076976181\",\n",
      "            \"updated_time\": \"2017-04-20T08:24:59+0000\"\n",
      "        },\n",
      "        {\n",
      "            \"id\": \"1717731545171536_1900213250256697\",\n",
      "            \"message\": \"When that cute boy from your discussion finally messages you\",\n",
      "            \"updated_time\": \"2017-04-20T08:24:47+0000\"\n",
      "        },\n",
      "        {\n",
      "            \"id\": \"1717731545171536_1840460969565259\",\n",
      "            \"message\": \"When your professor doesn't like using laser pointers\",\n",
      "            \"updated_time\": \"2017-04-20T08:22:54+0000\"\n",
      "        },\n",
      "        {\n",
      "            \"id\": \"1717731545171536_1898995120378510\",\n",
      "            \"message\": \"Friend: Are you paying attention to the lecture?\\nMe: Yeah\\nMy brain the whole lecture:\",\n",
      "            \"updated_time\": \"2017-04-20T08:22:47+0000\"\n",
      "        },\n",
      "        {\n",
      "            \"id\": \"1717731545171536_1900273230250699\",\n",
      "            \"message\": \"They still see me hanging around\",\n",
      "            \"updated_time\": \"2017-04-20T08:22:15+0000\"\n",
      "        },\n",
      "        {\n",
      "            \"id\": \"1717731545171536_1900035803607775\",\n",
      "            \"message\": \"When dance season comes around at Berkeley.\",\n",
      "            \"updated_time\": \"2017-04-20T08:21:43+0000\"\n",
      "        },\n",
      "        {\n",
      "            \"id\": \"1717731545171536_1897787097165979\",\n",
      "            \"message\": \"When you end up doing the whole group project by yourself\",\n",
      "            \"updated_time\": \"2017-04-20T08:14:59+0000\"\n",
      "        },\n",
      "        {\n",
      "            \"id\": \"1717731545171536_1900293476915341\",\n",
      "            \"message\": \"edgy eecs reacts only\",\n",
      "            \"updated_time\": \"2017-04-20T08:13:39+0000\"\n",
      "        },\n",
      "        {\n",
      "            \"id\": \"1717731545171536_1890949571183065\",\n",
      "            \"message\": \"Sad reacts only\",\n",
      "            \"updated_time\": \"2017-04-20T08:12:47+0000\"\n",
      "        },\n",
      "        {\n",
      "            \"id\": \"1717731545171536_1865421103735912\",\n",
      "            \"message\": \"Mods are studying, time to shitpost\",\n",
      "            \"updated_time\": \"2017-04-20T08:11:53+0000\"\n",
      "        },\n",
      "        {\n",
      "            \"id\": \"1717731545171536_1899735876971101\",\n",
      "            \"message\": \"Edit: holy shit I thought this would get like 10-20 likes before being deleted by Chris Tril\\n\\nPlease please please depression is a real thing. Shitposting and commiserating can help you feel better but if you're consistently feeling this way please seek out help at Tang Center or wherever else mental health resources are at your school.\",\n",
      "            \"updated_time\": \"2017-04-20T08:08:49+0000\"\n",
      "        },\n",
      "        {\n",
      "            \"id\": \"1717731545171536_1900200626924626\",\n",
      "            \"message\": \"When you don't have your shit together but neither does the professor\",\n",
      "            \"updated_time\": \"2017-04-20T08:05:03+0000\"\n",
      "        },\n",
      "        {\n",
      "            \"id\": \"1717731545171536_1899676780310344\",\n",
      "            \"message\": \"Angry reacts only\",\n",
      "            \"updated_time\": \"2017-04-20T08:01:15+0000\"\n",
      "        },\n",
      "        {\n",
      "            \"id\": \"1717731545171536_1900162736928415\",\n",
      "            \"message\": \"class of 2017 reacts only\",\n",
      "            \"updated_time\": \"2017-04-20T07:58:56+0000\"\n",
      "        },\n",
      "        {\n",
      "            \"id\": \"1717731545171536_1899203243691031\",\n",
      "            \"updated_time\": \"2017-04-20T07:56:37+0000\"\n",
      "        },\n",
      "        {\n",
      "            \"id\": \"1717731545171536_1900381010239921\",\n",
      "            \"message\": \"Taking stressful shits after class.\",\n",
      "            \"updated_time\": \"2017-04-20T07:55:32+0000\"\n",
      "        },\n",
      "        {\n",
      "            \"id\": \"1717731545171536_1897810397163649\",\n",
      "            \"message\": \"Now available at House of Curries on Durant\",\n",
      "            \"updated_time\": \"2017-04-20T07:53:56+0000\"\n",
      "        },\n",
      "        {\n",
      "            \"id\": \"1717731545171536_1898107450467277\",\n",
      "            \"message\": \"sad reacts only\",\n",
      "            \"updated_time\": \"2017-04-20T07:51:22+0000\"\n",
      "        },\n",
      "        {\n",
      "            \"id\": \"1717731545171536_1813799672231389\",\n",
      "            \"message\": \"Taking finals like\",\n",
      "            \"updated_time\": \"2017-04-20T07:48:56+0000\"\n",
      "        },\n",
      "        {\n",
      "            \"id\": \"1717731545171536_1822985764646113\",\n",
      "            \"updated_time\": \"2017-04-20T07:48:03+0000\"\n",
      "        },\n",
      "        {\n",
      "            \"id\": \"1717731545171536_1828899197388103\",\n",
      "            \"message\": \"When you have a big leftover of meal points and start buying stupid shit\",\n",
      "            \"updated_time\": \"2017-04-20T07:47:56+0000\"\n",
      "        }\n",
      "    ],\n",
      "    \"paging\": {\n",
      "        \"next\": \"https://graph.facebook.com/v2.8/1717731545171536/feed?icon_size=16&access_token=443809049300463|e6ff2a431bb3da7624faefbf39a15a3d&limit=25&until=1492674476&__paging_token=enc_AdCixEEp34dfPljDEpK1RUs5Ab0lbSN8vKww6ZBMbmeK8bBjTIxg8Wti75D0bDs74RJk3xmSlxmAm7blYWVnjZBIWWgS58fJsrifGIy5G8anVjLQZDZD\",\n",
      "        \"previous\": \"https://graph.facebook.com/v2.8/1717731545171536/feed?icon_size=16&since=1492676800&access_token=443809049300463|e6ff2a431bb3da7624faefbf39a15a3d&limit=25&__paging_token=enc_AdCHtknM0KD9ZA359otGJO5O1rjbRDozMz1wheASGsThySofZBLwu7fUC4qJNrzAFA1ZBOEVUnyaSSt2lsCydVuoqcEZChD1IBZCtYmZBv3rWU9OuQugZDZD&__previous=1\"\n",
      "    }\n",
      "}\n"
     ]
    }
   ],
   "source": [
    "def testFacebookPageFeedData(page_id, access_token):\n",
    "    \n",
    "    # construct the URL string\n",
    "    base = \"https://graph.facebook.com/v2.8\"\n",
    "    node = \"/\" + page_id + \"/feed\" # changed\n",
    "    parameters = \"/?access_token=%s\" % access_token\n",
    "    url = base + node + parameters\n",
    "    \n",
    "    # retrieve data\n",
    "    data = json.loads(request_until_succeed(url).decode('utf-8'))\n",
    "    \n",
    "    print(json.dumps(data, indent=4, sort_keys=True))\n",
    "    \n",
    "\n",
    "testFacebookPageFeedData(group_id, access_token)"
   ]
  },
  {
   "cell_type": "markdown",
   "metadata": {},
   "source": [
    "In v2.4, the default behavior is to return very, very little metadata for statuses in order to reduce bandwidth, with the expectation the user will request the necessary fields.\n",
    "\n",
    "We don't need data on every NYT status. Yet. Let's reduce the requested fields to exactly what we need, and the number of stories returned to 1 so we can process it."
   ]
  },
  {
   "cell_type": "code",
   "execution_count": 9,
   "metadata": {
    "collapsed": false,
    "scrolled": false
   },
   "outputs": [],
   "source": [
    "def getFacebookPageFeedData(page_id, access_token, num_statuses):\n",
    "    \n",
    "    # construct the URL string\n",
    "    base = \"https://graph.facebook.com\"\n",
    "    node = \"/\" + group_id + \"/feed\" \n",
    "    parameters = parameters = \"/?fields=message,from,link,created_time,updated_time,type,name,id,likes.limit(1).summary(true),comments.limit(1).summary(true),shares&limit=%s&access_token=%s\" % (num_statuses, access_token) # changed\n",
    "    url = base + node + parameters\n",
    "    \n",
    "    # retrieve data\n",
    "    data = json.loads(request_until_succeed(url).decode('utf-8'))\n",
    "    \n",
    "    return data\n",
    "    \n",
    "\n",
    "test_status = getFacebookPageFeedData(group_id, access_token, 1)[\"data\"][0]\n",
    "#print(json.dumps(test_status, indent=4, sort_keys=True))"
   ]
  },
  {
   "cell_type": "markdown",
   "metadata": {},
   "source": [
    "## Now that we have a sample Facebook page status, we can write a function to process each field individually."
   ]
  },
  {
   "cell_type": "code",
   "execution_count": 10,
   "metadata": {
    "collapsed": false
   },
   "outputs": [
    {
     "name": "stdout",
     "output_type": "stream",
     "text": [
      "{\n",
      "    \"comments\": {\n",
      "        \"data\": [\n",
      "            {\n",
      "                \"created_time\": \"2017-04-13T22:42:51+0000\",\n",
      "                \"from\": {\n",
      "                    \"id\": \"1880563745564569\",\n",
      "                    \"name\": \"Alec Rodriguez\"\n",
      "                },\n",
      "                \"id\": \"1896503293961026\",\n",
      "                \"message\": \"Michael Gary Yi \\ud83e\\udd14\"\n",
      "            }\n",
      "        ],\n",
      "        \"paging\": {\n",
      "            \"cursors\": {\n",
      "                \"after\": \"WTI5dGJXVnVkRjlqZAFhKemIzSTZANVGc1TmpVd016STVNemsyTVRBeU5qb3hORGt5TVRJek16Y3gZD\",\n",
      "                \"before\": \"WTI5dGJXVnVkRjlqZAFhKemIzSTZANVGc1TmpVd016STVNemsyTVRBeU5qb3hORGt5TVRJek16Y3gZD\"\n",
      "            },\n",
      "            \"next\": \"https://graph.facebook.com/v2.8/1717731545171536_1896484597296229/comments?access_token=443809049300463%7Ce6ff2a431bb3da7624faefbf39a15a3d&summary=true&limit=1&after=WTI5dGJXVnVkRjlqZAFhKemIzSTZANVGc1TmpVd016STVNemsyTVRBeU5qb3hORGt5TVRJek16Y3gZD\"\n",
      "        },\n",
      "        \"summary\": {\n",
      "            \"can_comment\": false,\n",
      "            \"order\": \"chronological\",\n",
      "            \"total_count\": 189\n",
      "        }\n",
      "    },\n",
      "    \"created_time\": \"2017-04-13T21:55:17+0000\",\n",
      "    \"from\": {\n",
      "        \"id\": \"431973770480713\",\n",
      "        \"name\": \"Tony Lai\"\n",
      "    },\n",
      "    \"id\": \"1717731545171536_1896484597296229\",\n",
      "    \"likes\": {\n",
      "        \"data\": [\n",
      "            {\n",
      "                \"id\": \"1507822362570936\",\n",
      "                \"name\": \"Sean Meng\"\n",
      "            }\n",
      "        ],\n",
      "        \"paging\": {\n",
      "            \"cursors\": {\n",
      "                \"after\": \"MTUwNzgyMjM2MjU3MDkzNgZDZD\",\n",
      "                \"before\": \"MTUwNzgyMjM2MjU3MDkzNgZDZD\"\n",
      "            },\n",
      "            \"next\": \"https://graph.facebook.com/v2.8/1717731545171536_1896484597296229/likes?access_token=443809049300463%7Ce6ff2a431bb3da7624faefbf39a15a3d&summary=true&limit=1&after=MTUwNzgyMjM2MjU3MDkzNgZDZD\"\n",
      "        },\n",
      "        \"summary\": {\n",
      "            \"can_like\": true,\n",
      "            \"has_liked\": false,\n",
      "            \"total_count\": 1723\n",
      "        }\n",
      "    },\n",
      "    \"link\": \"https://www.facebook.com/photo.php?fbid=431743327170424&set=gm.1896484597296229&type=3\",\n",
      "    \"type\": \"photo\",\n",
      "    \"updated_time\": \"2017-04-20T08:26:40+0000\"\n",
      "}\n"
     ]
    }
   ],
   "source": [
    "test_status = getFacebookPageFeedData(group_id, access_token, 1)[\"data\"][0]\n",
    "print(json.dumps(test_status, indent=4, sort_keys=True))"
   ]
  },
  {
   "cell_type": "markdown",
   "metadata": {},
   "source": [
    "# Now, we're going to write a function that processes the non-like reactions.\n",
    "Reactions need to be iterated through and then counted for total votes. We can also figure out the most angry/sad/happy/etc poster, but we might just save it for later."
   ]
  },
  {
   "cell_type": "code",
   "execution_count": 11,
   "metadata": {
    "collapsed": false
   },
   "outputs": [
    {
     "name": "stdout",
     "output_type": "stream",
     "text": [
      "('1717731545171536_1896484597296229', '', '431973770480713', 'Tony Lai', '', 'photo', 'https://www.facebook.com/photo.php?fbid=431743327170424&set=gm.1896484597296229&type=3', '2017-04-13 13:55:17', 1723, 189, 0, datetime.datetime(2017, 4, 20, 0, 26, 40))\n"
     ]
    },
    {
     "data": {
      "text/plain": [
       "3621"
      ]
     },
     "execution_count": 11,
     "metadata": {},
     "output_type": "execute_result"
    }
   ],
   "source": [
    "def processFacebookPageFeedStatus(post):\n",
    "    \n",
    "    # The status is now a Python dictionary, so for top-level items,\n",
    "    # we can simply call the key.\n",
    "    \n",
    "    # Additionally, some items may not always exist,\n",
    "    # so must check for existence first\n",
    "    \n",
    "    # Fields: post_id, post_message, from, \n",
    "    \n",
    "    post_id = post['id']\n",
    "    post_message = '' if 'message' not in post.keys() else post['message'].encode('utf-8')\n",
    "    link_name = '' if 'name' not in post.keys() else post['name'].encode('utf-8')\n",
    "    post_type = post['type']\n",
    "    post_link = '' if 'link' not in post.keys() else post['link']\n",
    "    poster_id = post['from']['id']\n",
    "    poster_name = post['from']['name']\n",
    "    \n",
    "    \n",
    "    # Time needs special care since a) it's in UTC and\n",
    "    # b) it's not easy to use in statistical programs.\n",
    "    \n",
    "    post_published = datetime.datetime.strptime(post['created_time'],'%Y-%m-%dT%H:%M:%S+0000')\n",
    "    post_published = post_published + datetime.timedelta(hours=-8) # PST\n",
    "    post_published = post_published.strftime('%Y-%m-%d %H:%M:%S') # best time format for spreadsheet programs\n",
    "    \n",
    "    update_time = datetime.datetime.strptime(post['updated_time'],'%Y-%m-%dT%H:%M:%S+0000')\n",
    "    update_time = update_time + datetime.timedelta(hours=-8) # PST\n",
    "    \n",
    "    # Nested items require chaining dictionary keys.\n",
    "    \n",
    "    num_likes = 0 if 'likes' not in post.keys() else post['likes']['summary']['total_count']\n",
    "    num_comments = 0 if 'comments' not in post.keys() else post['comments']['summary']['total_count']\n",
    "    num_shares = 0 if 'shares' not in post.keys() else post['shares']['count']\n",
    "    \n",
    "    # return a tuple of all processed data\n",
    "    return (post_id, post_message, poster_id, poster_name, link_name, post_type, post_link,\n",
    "           post_published, num_likes, num_comments, num_shares, update_time)\n",
    "\n",
    "processed_test_status = processFacebookPageFeedStatus(test_status)\n",
    "print(processed_test_status)\n",
    "\n",
    "(datetime.datetime.now() - processed_test_status[-1]).seconds"
   ]
  },
  {
   "cell_type": "markdown",
   "metadata": {},
   "source": [
    "# Surprisingly, we're almost done! Now we just need to:\n",
    "\n",
    "1. Query each page of Facebook Page Statuses (100 statuses per page) using `getFacebookPageFeedData`.\n",
    "2. Process all statuses on that page using `processFacebookPageFeedStatus` and writing the output to a CSV file.\n",
    "3. Navigate to the next page, and repeat until no more statuses\n",
    "\n",
    "This block implements both the writing to CSV and page navigation.\n",
    "\n",
    "(note: after the initial scrape, adjust it so that it doesn't check further back before the last scraped time)"
   ]
  },
  {
   "cell_type": "code",
   "execution_count": 12,
   "metadata": {
    "collapsed": false
   },
   "outputs": [],
   "source": [
    "def scrapeFacebookPageFeedStatus(page_id, access_token):\n",
    "    with open('%s_facebook_statuses.csv' % page_id, 'w') as file:\n",
    "        w = csv.writer(file)\n",
    "        w.writerow([b\"post_id\", \"post_message\", \"poster_id\", \"poster_name\", \n",
    "                    \"link_name\", \"post_type\", \"post_link\", \"post_published\", \n",
    "                    \"num_likes\", \"num_comments\", \"num_shares\", \"update_time\"])\n",
    "        \n",
    "        has_next_page = True\n",
    "        num_processed = 0   # keep a count on how many we've processed\n",
    "        scrape_starttime = datetime.datetime.now()\n",
    "        \n",
    "        print(\"Scraping %s Facebook Page: %s\\n\" % (page_id, scrape_starttime))\n",
    "        \n",
    "        statuses = getFacebookPageFeedData(page_id, access_token, 100)\n",
    "        \n",
    "        while has_next_page:\n",
    "            for status in statuses['data']:\n",
    "                info = processFacebookPageFeedStatus(status)\n",
    "                w.writerow(info)\n",
    "                \n",
    "                # output progress occasionally to make sure code is not stalling\n",
    "                num_processed += 1\n",
    "                if num_processed % 1000 == 0:\n",
    "                    print(\"%s Statuses Processed: %s\" % (num_processed, datetime.datetime.now()))\n",
    "                    \n",
    "            # if there is no next page, we're done.\n",
    "            if 'paging' in statuses.keys():\n",
    "                statuses = json.loads(request_until_succeed(statuses['paging']['next']).decode('utf-8'))\n",
    "            else:\n",
    "                has_next_page = False\n",
    "                \n",
    "        \n",
    "        print(\"\\nDone!\\n%s Statuses Processed in %s\" % (num_processed, datetime.datetime.now() - scrape_starttime))\n",
    "\n",
    "\n",
    "#scrapeFacebookPageFeedStatus(group_id, access_token)"
   ]
  },
  {
   "cell_type": "markdown",
   "metadata": {},
   "source": [
    "The CSV can be opened in all major statistical programs. Have fun! :)\n",
    "\n",
    "You can download the [NYTimes data here](https://dl.dropboxusercontent.com/u/2017402/nytimes_facebook_statuses.zip). [4.6MB]"
   ]
  },
  {
   "cell_type": "markdown",
   "metadata": {
    "collapsed": true
   },
   "source": [
    "# Define a function down here that aggregates all of the likes/reacts data\n",
    "\n",
    "We have 5 million likes on all posts. To be conservative, then 10 million total reactions to all posts in the group will take 10,000,000/5000*11 = 2000 seconds = 366 minutes = ~6 hours for the initial scrape for all reaction data.\n",
    "\n",
    "1. We compile all reactions into a python dictionary before converting it into a json, with post_id, reaction data (as a list)\n",
    "2. We'll add each of these post_ids into a mongodb for further investigation"
   ]
  },
  {
   "cell_type": "code",
   "execution_count": 13,
   "metadata": {
    "collapsed": false
   },
   "outputs": [],
   "source": [
    "def parseAllReactions(post_id, num_reactions):\n",
    "    base = \"https://graph.facebook.com/v2.8/\"+post_id+\"/reactions\"\n",
    "    parameters = \"?access_token=%s&limit=%s\" % (access_token, num_reactions)\n",
    "    \n",
    "    url = base + parameters\n",
    "    \n",
    "    \n",
    "    scrape_starttime = datetime.datetime.now()\n",
    "    data = json.loads(request_until_succeed(url).decode('utf-8'))\n",
    "    \n",
    "    full_data = []\n",
    "    pages = 0\n",
    "    has_next_page = True\n",
    "    \n",
    "    \n",
    "    while has_next_page:\n",
    "        full_data = full_data + data['data']\n",
    "        pages+=1\n",
    "        # if there is no next page, we're done.\n",
    "        if 'next' in data['paging'].keys():\n",
    "            data = json.loads(request_until_succeed(data['paging']['next']).decode('utf-8'))\n",
    "        else:\n",
    "            has_next_page = False\n",
    "            \n",
    "    print(\"\\nDone!\\n%s pages Processed in %s\" % (pages, datetime.datetime.now() - scrape_starttime))\n",
    "            \n",
    "    return {'post_id' : post_id, 'reactions' : full_data}\n"
   ]
  },
  {
   "cell_type": "code",
   "execution_count": 14,
   "metadata": {
    "collapsed": false
   },
   "outputs": [
    {
     "name": "stdout",
     "output_type": "stream",
     "text": [
      "\n",
      "Done!\n",
      "53 pages Processed in 0:00:08.208185\n"
     ]
    }
   ],
   "source": [
    "x = parseAllReactions(pd.read_csv('1717731545171536_facebook_statuses.csv')[\"b'post_id'\"][0], 100)"
   ]
  },
  {
   "cell_type": "code",
   "execution_count": 15,
   "metadata": {
    "collapsed": true
   },
   "outputs": [],
   "source": [
    "def getImageFromPost(post_id):\n",
    "    base = \"https://graph.facebook.com/v2.8/\"+post_id+\"/attachments\"\n",
    "    parameters = \"/?access_token=%s\" % access_token\n",
    "    \n",
    "    url = base + parameters\n",
    "    data = json.loads(request_until_succeed(url).decode('utf-8'))\n",
    "    \n",
    "    return data['data'][0]['media']['image']['src']"
   ]
  },
  {
   "cell_type": "code",
   "execution_count": 21,
   "metadata": {
    "collapsed": false
   },
   "outputs": [],
   "source": [
    "base = \"https://graph.facebook.com/v2.8/\"+pd.read_csv('1717731545171536_facebook_statuses.csv')[\"b'post_id'\"][0]+\"/reactions\"\n",
    "parameters = \"?access_token=%s&limit=%s\" % (access_token, 100)\n",
    "\n",
    "url = base + parameters\n",
    "scrape_starttime = datetime.datetime.now()\n",
    "data = json.loads(request_until_succeed(url).decode('utf-8'))\n",
    "    \n",
    "has_next_page = True\n",
    "full_data = []\n",
    "# while has_next_page:\n",
    "#     full_data = full_data + data['data']\n",
    "#     pages+=1\n",
    "#     # if there is no next page, we're done.\n",
    "#     if 'next' in data['paging'].keys():\n",
    "#         data = json.loads(request_until_succeed(data['paging']['next']).decode('utf-8'))\n",
    "#     else:\n",
    "#         has_next_page = False"
   ]
  },
  {
   "cell_type": "code",
   "execution_count": 23,
   "metadata": {
    "collapsed": false
   },
   "outputs": [
    {
     "data": {
      "text/plain": [
       "[{'id': '1449773205074991', 'name': 'Leonino Colobong', 'type': 'LIKE'},\n",
       " {'id': '1463690963680974', 'name': 'Jacob Ramirez', 'type': 'LIKE'},\n",
       " {'id': '1464715400239331', 'name': 'Darren Huang', 'type': 'LIKE'},\n",
       " {'id': '1585578931499585', 'name': 'Aaron Chelliah', 'type': 'LIKE'},\n",
       " {'id': '613074145552790', 'name': 'Angel Rubio', 'type': 'LIKE'},\n",
       " {'id': '601813086690726', 'name': 'Juan M Arce', 'type': 'LIKE'},\n",
       " {'id': '10203176591453080', 'name': 'Kenneth Choong', 'type': 'LIKE'},\n",
       " {'id': '10206924590072981', 'name': 'OaTing Do', 'type': 'HAHA'},\n",
       " {'id': '10212807308364358', 'name': 'Roland Wen', 'type': 'LIKE'},\n",
       " {'id': '1246353628797054', 'name': 'Danielle Dirksen', 'type': 'LIKE'},\n",
       " {'id': '1354450551288698', 'name': 'Paul Ajodha', 'type': 'LIKE'},\n",
       " {'id': '1378796615477040', 'name': 'Nick Lawrence', 'type': 'LIKE'},\n",
       " {'id': '10206628821197940', 'name': 'Nathania Hartojo', 'type': 'LIKE'},\n",
       " {'id': '1339739609447068', 'name': 'Shreya De', 'type': 'LIKE'},\n",
       " {'id': '1274468372669798', 'name': 'John Stafford', 'type': 'LIKE'},\n",
       " {'id': '1633160990046000', 'name': 'Daniel Suber', 'type': 'LIKE'},\n",
       " {'id': '10212738722884308', 'name': 'Rachael Garner', 'type': 'LIKE'},\n",
       " {'id': '1309115619126052', 'name': 'John Jae Lee', 'type': 'LIKE'},\n",
       " {'id': '1488049654548308', 'name': 'Lauren Hyun', 'type': 'LIKE'},\n",
       " {'id': '942614325881299', 'name': 'Caleb Jeffries', 'type': 'LIKE'},\n",
       " {'id': '1758844317761312', 'name': 'Marina Vidaurri', 'type': 'LIKE'},\n",
       " {'id': '1784780671838352', 'name': 'Silvana Valle', 'type': 'LIKE'},\n",
       " {'id': '10154780729322772', 'name': 'Sapphira Dai', 'type': 'LOVE'},\n",
       " {'id': '1433616876691182', 'name': 'Charlotte McGinn', 'type': 'LIKE'},\n",
       " {'id': '1309305915771595', 'name': 'Erik Strand', 'type': 'LIKE'},\n",
       " {'id': '1124967877649685', 'name': 'Catherine Tran', 'type': 'LIKE'},\n",
       " {'id': '10208869001421897', 'name': 'Kevin Liang', 'type': 'LIKE'},\n",
       " {'id': '10210946234004465', 'name': 'Cristina A Garcia', 'type': 'LIKE'},\n",
       " {'id': '10212197368072453', 'name': 'Nishant Chandrashekar', 'type': 'LIKE'},\n",
       " {'id': '1276307542417995', 'name': 'Cole Sweetwood', 'type': 'LIKE'},\n",
       " {'id': '10210140019801118', 'name': 'Jasmine Contreras', 'type': 'HAHA'},\n",
       " {'id': '10155149101619618', 'name': 'Lillian Chen', 'type': 'LIKE'},\n",
       " {'id': '10208432186833355', 'name': 'Hall Chen', 'type': 'LIKE'},\n",
       " {'id': '1847969905442824', 'name': 'Sarah Erickson', 'type': 'LIKE'},\n",
       " {'id': '10211925083916941', 'name': 'Chris Pak', 'type': 'LIKE'},\n",
       " {'id': '1049248821886089', 'name': 'Cailin Lechner', 'type': 'LIKE'},\n",
       " {'id': '1415578055168123', 'name': 'Elsa Valent-Croci', 'type': 'LIKE'},\n",
       " {'id': '1520031254715165', 'name': 'Alyssa-Marie Dones', 'type': 'LIKE'},\n",
       " {'id': '1401809083190437', 'name': 'Joy Li', 'type': 'LIKE'},\n",
       " {'id': '10212245414388322', 'name': 'Keshara Senanayake', 'type': 'LIKE'},\n",
       " {'id': '1515813398448871', 'name': 'Ethan Mach', 'type': 'LIKE'},\n",
       " {'id': '943176099119059', 'name': \"Isabella Dyc-O'Neal\", 'type': 'LIKE'},\n",
       " {'id': '10211101021514787', 'name': 'Andrew McCormick', 'type': 'LIKE'},\n",
       " {'id': '1320297884704508', 'name': 'Tanya Kornilova', 'type': 'LIKE'},\n",
       " {'id': '282777025500238', 'name': 'Ani Hemelians', 'type': 'LIKE'},\n",
       " {'id': '1485158624848767', 'name': 'Aldo Barrita', 'type': 'HAHA'},\n",
       " {'id': '1648885815124891', 'name': 'Mario Valadez', 'type': 'LIKE'},\n",
       " {'id': '10210469615514393', 'name': 'Andrea Rodriguez', 'type': 'LIKE'},\n",
       " {'id': '1523852487625204', 'name': 'Elise Hayashi', 'type': 'LIKE'},\n",
       " {'id': '430530233966563', 'name': 'Annie Yuan Yuan', 'type': 'LIKE'},\n",
       " {'id': '10211053257761793', 'name': 'Andrew Payomo', 'type': 'LIKE'},\n",
       " {'id': '1195609097204689', 'name': 'Connor Schmitt', 'type': 'LIKE'},\n",
       " {'id': '1658325260859332', 'name': 'Monique Gomes', 'type': 'LIKE'},\n",
       " {'id': '1411294225607918', 'name': 'Andrea Orozco', 'type': 'LIKE'},\n",
       " {'id': '1398015863589058', 'name': 'Jennifer Penuelas', 'type': 'LIKE'},\n",
       " {'id': '10158581302635596', 'name': 'Haruko Ayabe', 'type': 'LIKE'},\n",
       " {'id': '1515812511785231', 'name': 'Deborah Rheem', 'type': 'LIKE'},\n",
       " {'id': '10211295873325785', 'name': 'กันต์ สถาพรกุล', 'type': 'LIKE'},\n",
       " {'id': '996821500449601', 'name': 'Benjamin Lee', 'type': 'LIKE'},\n",
       " {'id': '1716796455012183', 'name': 'Jeffrey Feng', 'type': 'LIKE'},\n",
       " {'id': '1338533509564515', 'name': 'Gabriela Rivera', 'type': 'LIKE'},\n",
       " {'id': '10211676661366336', 'name': 'Grace Jenks', 'type': 'LIKE'},\n",
       " {'id': '1820528064627856', 'name': 'Kevin Su', 'type': 'LIKE'},\n",
       " {'id': '1442249665850056', 'name': 'Kayla Lee', 'type': 'LIKE'},\n",
       " {'id': '10208804213530924', 'name': 'Hannah Tan', 'type': 'LIKE'},\n",
       " {'id': '1430858510268916', 'name': 'Aldo Iturrios', 'type': 'LIKE'},\n",
       " {'id': '1385235488186931', 'name': 'Yadira Guadalupe Torres', 'type': 'LIKE'},\n",
       " {'id': '624000954455795', 'name': 'Kajal Sapkota', 'type': 'LIKE'},\n",
       " {'id': '1534441409909597', 'name': 'Sara Cho', 'type': 'LIKE'},\n",
       " {'id': '1235750806522976', 'name': 'Allison Hernandez', 'type': 'LIKE'},\n",
       " {'id': '737772283061198', 'name': 'Fangzhe Han', 'type': 'LIKE'},\n",
       " {'id': '1495327173811265', 'name': 'Zach Schmidt', 'type': 'LIKE'},\n",
       " {'id': '1624581114220582', 'name': 'Shoshanna Samuel', 'type': 'LIKE'},\n",
       " {'id': '1929537523966940', 'name': 'Yasmeen Magaña', 'type': 'LIKE'},\n",
       " {'id': '10212596388051025', 'name': 'Nicole Hipsher', 'type': 'LIKE'},\n",
       " {'id': '723189507849762', 'name': 'Jenny Zhong', 'type': 'LIKE'},\n",
       " {'id': '1271368699578453', 'name': 'Nate Armstrong', 'type': 'LIKE'},\n",
       " {'id': '1962310860667002', 'name': 'Katherine Chen', 'type': 'LIKE'},\n",
       " {'id': '1661619340519491', 'name': 'Jaclyn Solinger', 'type': 'LIKE'},\n",
       " {'id': '1513941631951381', 'name': 'Suxin Wang', 'type': 'LIKE'},\n",
       " {'id': '10211333616228935', 'name': 'Julia Hoang', 'type': 'LIKE'},\n",
       " {'id': '435230783492217', 'name': 'Piumi Yaggaha', 'type': 'LIKE'},\n",
       " {'id': '642919165907628', 'name': 'Rosa Kwak', 'type': 'WOW'},\n",
       " {'id': '10210800188833340', 'name': 'Natalie Luk', 'type': 'HAHA'},\n",
       " {'id': '1480900708628217', 'name': 'Juliana Zhao', 'type': 'LIKE'},\n",
       " {'id': '1522139914463559', 'name': 'Rena Sy', 'type': 'LIKE'},\n",
       " {'id': '10212956324969998', 'name': 'Annie Giang', 'type': 'LIKE'},\n",
       " {'id': '1621837767856968', 'name': 'Shing Lin', 'type': 'HAHA'},\n",
       " {'id': '1186536991474898', 'name': 'Jeffrey Lau', 'type': 'LIKE'},\n",
       " {'id': '10154546629372151', 'name': 'Emily Bossière', 'type': 'LIKE'},\n",
       " {'id': '1346193448783380', 'name': 'Nick Simmons', 'type': 'LIKE'},\n",
       " {'id': '1541565752523045', 'name': 'Tatiana Vierma', 'type': 'LIKE'},\n",
       " {'id': '1846407062051538', 'name': 'Mindy Nguyen', 'type': 'LIKE'},\n",
       " {'id': '10154577180566173', 'name': 'Chisa Egbelu', 'type': 'LIKE'},\n",
       " {'id': '1301364429970555', 'name': 'Giselle Aguayo', 'type': 'LIKE'},\n",
       " {'id': '1166726256766633', 'name': 'Xinyue Yu', 'type': 'LIKE'},\n",
       " {'id': '10203350104830477', 'name': 'Benjamin Chen', 'type': 'LIKE'},\n",
       " {'id': '1465762403496733', 'name': 'Denisse Avalos', 'type': 'HAHA'},\n",
       " {'id': '10207032207684107', 'name': 'Louis Potthoff', 'type': 'LIKE'},\n",
       " {'id': '10212074806483935', 'name': 'Ashna Nain', 'type': 'LIKE'}]"
      ]
     },
     "execution_count": 23,
     "metadata": {},
     "output_type": "execute_result"
    }
   ],
   "source": [
    "data['data'][]"
   ]
  },
  {
   "cell_type": "code",
   "execution_count": null,
   "metadata": {
    "collapsed": true
   },
   "outputs": [],
   "source": []
  }
 ],
 "metadata": {
  "anaconda-cloud": {},
  "kernelspec": {
   "display_name": "Python [default]",
   "language": "python",
   "name": "python3"
  },
  "language_info": {
   "codemirror_mode": {
    "name": "ipython",
    "version": 3
   },
   "file_extension": ".py",
   "mimetype": "text/x-python",
   "name": "python",
   "nbconvert_exporter": "python",
   "pygments_lexer": "ipython3",
   "version": "3.5.2"
  }
 },
 "nbformat": 4,
 "nbformat_minor": 0
}

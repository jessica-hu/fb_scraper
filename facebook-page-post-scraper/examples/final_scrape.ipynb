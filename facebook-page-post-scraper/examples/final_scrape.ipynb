{
 "cells": [
  {
   "cell_type": "code",
   "execution_count": null,
   "metadata": {
    "collapsed": true
   },
   "outputs": [],
   "source": [
    "def scrapeFacebookPageFeedStatus(page_id, access_token):\n",
    "    with open('%s_facebook_statuses.csv' % page_id, 'w') as file:\n",
    "        w = csv.writer(file)\n",
    "        w.writerow([b\"post_id\", \"post_message\", \"poster_id\", \"poster_name\", \n",
    "                    \"link_name\", \"post_type\", \"post_link\", \"post_published\", \n",
    "                    \"num_likes\", \"num_comments\", \"num_shares\", \"update_time\"])\n",
    "        \n",
    "        has_next_page = True\n",
    "        num_processed = 0   # keep a count on how many we've processed\n",
    "        scrape_starttime = datetime.datetime.now()\n",
    "        \n",
    "        print(\"Scraping %s Facebook Page: %s\\n\" % (page_id, scrape_starttime))\n",
    "        \n",
    "        statuses = getFacebookPageFeedData(page_id, access_token, 100)\n",
    "        \n",
    "        while has_next_page:\n",
    "            for status in statuses['data']:\n",
    "                info = processFacebookPageFeedStatus(status)\n",
    "                w.writerow(info)\n",
    "                \n",
    "                # output progress occasionally to make sure code is not stalling\n",
    "                num_processed += 1\n",
    "                if num_processed % 1000 == 0:\n",
    "                    print(\"%s Statuses Processed: %s\" % (num_processed, datetime.datetime.now()))\n",
    "                    \n",
    "            # if there is no next page, we're done.\n",
    "            if 'paging' in statuses.keys():\n",
    "                statuses = json.loads(request_until_succeed(statuses['paging']['next']).decode('utf-8'))\n",
    "            else:\n",
    "                has_next_page = False\n",
    "                \n",
    "        \n",
    "        print(\"\\nDone!\\n%s Statuses Processed in %s\" % (num_processed, datetime.datetime.now() - scrape_starttime))\n",
    "\n",
    "\n",
    "scrapeFacebookPageFeedStatus(group_id, access_token)"
   ]
  },
  {
   "cell_type": "code",
   "execution_count": null,
   "metadata": {
    "collapsed": true
   },
   "outputs": [],
   "source": [
    "def getImageFromPost(post_id):\n",
    "    base = \"https://graph.facebook.com/v2.8/\"+post_id+\"/attachments\"\n",
    "    parameters = \"/?access_token=%s\" % access_token\n",
    "    \n",
    "    url = base + parameters\n",
    "    data = json.loads(request_until_succeed(url).decode('utf-8'))\n",
    "    \n",
    "    return data['data'][0]['media']['image']['src']\n",
    "\n",
    "response = requests.get(getImageFromPost(\"1717731545171536_1897103117234377\"))\n",
    "img = Image.open(BytesIO(response.content))\n",
    "img"
   ]
  }
 ],
 "metadata": {
  "kernelspec": {
   "display_name": "Python [default]",
   "language": "python",
   "name": "python3"
  },
  "language_info": {
   "codemirror_mode": {
    "name": "ipython",
    "version": 3
   },
   "file_extension": ".py",
   "mimetype": "text/x-python",
   "name": "python",
   "nbconvert_exporter": "python",
   "pygments_lexer": "ipython3",
   "version": "3.5.2"
  }
 },
 "nbformat": 4,
 "nbformat_minor": 1
}
